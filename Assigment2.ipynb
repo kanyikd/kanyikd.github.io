{
 "cells": [
  {
   "cell_type": "markdown",
   "metadata": {
    "collapsed": true
   },
   "source": [
    "In this exercise we explore $K$-means clustering - and we it out on the locations of the `PROSTITUTION` crime type. Applying a clustering method makes sense because we know from our earlier work that this crime type tends to happen in only a few locations. We'll also talk a little bit about model selection and [overfitting](https://www.youtube.com/watch?v=DQWI1kvmwRg) in unsupervised models.\n",
    "\n",
    "> _Exercise_: $K$-means\n",
    "> \n",
    "> * Visualize the prostitution data (e.g. by plotting it on a map)\n",
    "> * Train models of $K = 2,\\ldots,10$ on the prostitution data.\n",
    "> * Explore how the total squared error changes as a function of $K$ and identify what you think is the right number of clusers based on the knee-point in the squared error plot.\n",
    "> * And by the way: The fit only gets better when we add more means - why not keep adding more of them: Explain in your own words why it makes sense to stop around a knee-point.\n",
    "> * Another way of estimating the right number of clusters in a $K$-means problem is _stability analysis_. The idea is the following\n",
    ">   - For each $K = 2,\\ldots,10$ generate $N = 10$ clusterings based on random 50% of data (or some other fraction of data/bootstrap).\n",
    ">   - Calculate the pairwise similarity between the clusterings. \n",
    ">   - We now define _stability_ for some value of $K$ as average pairwise similarity of the $N$ clustering, where the similarity is the cosine distance $\\frac{\\mathbf{c}_i^K\\cdot\\mathbf{c}_j^K}{||\\mathbf{c}_i^K||\\,||\\mathbf{c}_j^K||}$ between centroid vectors $\\mathbf{c}_i^K$ and $\\mathbf{c}_j^K$.\n",
    ">   - We now say that the right $K$ maximizes stability.\n",
    "> * Explain why stability should help you find the right number of clusters.\n",
    "> * **Optional**: Perform stability analysis on the prostitution data. "
   ]
  },
  {
   "cell_type": "code",
   "execution_count": 10,
   "metadata": {
    "collapsed": false
   },
   "outputs": [
    {
     "name": "stdout",
     "output_type": "stream",
     "text": [
      "['110914565', 'WARRANTS', 'WARRANT ARREST', 'Friday', '05/29/2015', '16:42', 'SOUTHERN', 'ARREST, BOOKED', 'BRYANT ST / 8TH ST', '-122.406970988225', '37.7725273607571', '(37.7725273607571, -122.406970988225)', '11091456563010']\n"
     ]
    }
   ],
   "source": [
    "import csv\n",
    "with open(\"SFPD_Incidents_-_from_1_January_2003.csv\", 'rb') as f:\n",
    "    data = list(csv.reader(f))\n",
    "    \n",
    "full2003=['CENTRAL',0,'INGLESIDE',0,'MISSION',0,'RICHMOND',0,'BAYVIEW',0,'NORTHERN',0,'SOUTHERN',0,'TENDERLOIN',0,'TARAVAL',0,'PARK',0]\n",
    "\n",
    "full2015=['CENTRAL',0,'INGLESIDE',0,'MISSION',0,'RICHMOND',0,'BAYVIEW',0,'NORTHERN',0,'SOUTHERN',0,'TENDERLOIN',0,'TARAVAL',0,'PARK',0]\n",
    "print data[1]"
   ]
  },
  {
   "cell_type": "markdown",
   "metadata": {},
   "source": [
    "* The code above is a visulisation of the prostitution data."
   ]
  },
  {
   "cell_type": "code",
   "execution_count": 8,
   "metadata": {
    "collapsed": false
   },
   "outputs": [
    {
     "name": "stdout",
     "output_type": "stream",
     "text": [
      "['CENTRAL', 13622, 'INGLESIDE', 14008, 'MISSION', 21163, 'RICHMOND', 7692, 'BAYVIEW', 15739, 'NORTHERN', 18975, 'SOUTHERN', 25692, 'TENDERLOIN', 12737, 'TARAVAL', 11329, 'PARK', 8219]\n",
      "['CENTRAL', 18537, 'INGLESIDE', 13386, 'MISSION', 18512, 'RICHMOND', 9071, 'BAYVIEW', 14671, 'NORTHERN', 20053, 'SOUTHERN', 30030, 'TENDERLOIN', 10705, 'TARAVAL', 11924, 'PARK', 9316]\n"
     ]
    }
   ],
   "source": [
    "for x in data:\n",
    "    if x[4][6:10]=='2003':\n",
    "        if x[6]==full2003[0]:\n",
    "            full2003[1]+=1\n",
    "        if x[6]==full2003[2]:\n",
    "            full2003[3]+=1\n",
    "        if x[6]==full2003[4]:\n",
    "            full2003[5]+=1\n",
    "        if x[6]==full2003[6]:\n",
    "            full2003[7]+=1\n",
    "        if x[6]==full2003[8]:\n",
    "            full2003[9]+=1\n",
    "        if x[6]==full2003[10]:\n",
    "            full2003[11]+=1\n",
    "        if x[6]==full2003[12]:\n",
    "            full2003[13]+=1\n",
    "        if x[6]==full2003[14]:\n",
    "            full2003[15]+=1\n",
    "        if x[6]==full2003[16]:\n",
    "            full2003[17]+=1\n",
    "        if x[6]==full2003[18]:\n",
    "            full2003[19]+=1\n",
    "    if x[4][6:10]=='2015':\n",
    "        if x[6]==full2015[0]:\n",
    "            full2015[1]+=1\n",
    "        if x[6]==full2015[2]:\n",
    "            full2015[3]+=1\n",
    "        if x[6]==full2015[4]:\n",
    "            full2015[5]+=1\n",
    "        if x[6]==full2015[6]:\n",
    "            full2015[7]+=1\n",
    "        if x[6]==full2015[8]:\n",
    "            full2015[9]+=1\n",
    "        if x[6]==full2015[10]:\n",
    "            full2015[11]+=1\n",
    "        if x[6]==full2015[12]:\n",
    "            full2015[13]+=1\n",
    "        if x[6]==full2015[14]:\n",
    "            full2015[15]+=1\n",
    "        if x[6]==full2015[16]:\n",
    "            full2015[17]+=1\n",
    "        if x[6]==full2015[18]:\n",
    "            full2015[19]+=1\n",
    "print full2003\n",
    "print full2015"
   ]
  },
  {
   "cell_type": "code",
   "execution_count": 11,
   "metadata": {
    "collapsed": false
   },
   "outputs": [
    {
     "name": "stdout",
     "output_type": "stream",
     "text": [
      "['2003', 13461, '2004', 12899, '2005', 11601, '2006', 12449, '2007', 12518, '2008', 12681, '2009', 12284, '2010', 12388, '2011', 12279, '2012', 12181, '2013', 12580, '2014', 12404, '2015', 13091]\n",
      "['2003', 6047, '2004', 6753, '2005', 7071, '2006', 7004, '2007', 5454, '2008', 5679, '2009', 5379, '2010', 4966, '2011', 4987, '2012', 6244, '2013', 6195, '2014', 6069, '2015', 5931]\n"
     ]
    }
   ],
   "source": [
    "BURGLARY=['2003',0,'2004',0,'2005',0,'2006',0,'2007',0,'2008',0,'2009',0,'2010',0,'2011',0,'2012',0,'2013',0,'2014',0,'2015',0]\n",
    "ASSAULT=['2003',0,'2004',0,'2005',0,'2006',0,'2007',0,'2008',0,'2009',0,'2010',0,'2011',0,'2012',0,'2013',0,'2014',0,'2015',0]\n",
    "\n",
    "for x in data:\n",
    "    if x[1]=='ASSAULT':\n",
    "        if x[4][6:10]=='2003':\n",
    "            ASSAULT[1]+=1\n",
    "        if x[4][6:10]=='2004':\n",
    "            ASSAULT[3]+=1\n",
    "        if x[4][6:10]=='2005':\n",
    "            ASSAULT[5]+=1\n",
    "        if x[4][6:10]=='2006':\n",
    "            ASSAULT[7]+=1\n",
    "        if x[4][6:10]=='2007':\n",
    "            ASSAULT[9]+=1\n",
    "        if x[4][6:10]=='2008':\n",
    "            ASSAULT[11]+=1\n",
    "        if x[4][6:10]=='2009':\n",
    "            ASSAULT[13]+=1\n",
    "        if x[4][6:10]=='2010':\n",
    "            ASSAULT[15]+=1\n",
    "        if x[4][6:10]=='2011':\n",
    "            ASSAULT[17]+=1\n",
    "        if x[4][6:10]=='2012':\n",
    "            ASSAULT[19]+=1\n",
    "        if x[4][6:10]=='2013':\n",
    "            ASSAULT[21]+=1\n",
    "        if x[4][6:10]=='2014':\n",
    "            ASSAULT[23]+=1\n",
    "        if x[4][6:10]=='2015':\n",
    "            ASSAULT[25]+=1\n",
    "    if x[1]=='BURGLARY':\n",
    "        if x[4][6:10]=='2003':\n",
    "            BURGLARY[1]+=1\n",
    "        if x[4][6:10]=='2004':\n",
    "            BURGLARY[3]+=1\n",
    "        if x[4][6:10]=='2005':\n",
    "            BURGLARY[5]+=1\n",
    "        if x[4][6:10]=='2006':\n",
    "            BURGLARY[7]+=1\n",
    "        if x[4][6:10]=='2007':\n",
    "            BURGLARY[9]+=1\n",
    "        if x[4][6:10]=='2008':\n",
    "            BURGLARY[11]+=1\n",
    "        if x[4][6:10]=='2009':\n",
    "            BURGLARY[13]+=1\n",
    "        if x[4][6:10]=='2010':\n",
    "            BURGLARY[15]+=1\n",
    "        if x[4][6:10]=='2011':\n",
    "            BURGLARY[17]+=1\n",
    "        if x[4][6:10]=='2012':\n",
    "            BURGLARY[19]+=1\n",
    "        if x[4][6:10]=='2013':\n",
    "            BURGLARY[21]+=1\n",
    "        if x[4][6:10]=='2014':\n",
    "            BURGLARY[23]+=1\n",
    "        if x[4][6:10]=='2015':\n",
    "            BURGLARY[25]+=1\n",
    "print ASSAULT\n",
    "print BURGLARY\n",
    "    "
   ]
  },
  {
   "cell_type": "markdown",
   "metadata": {},
   "source": [
    "* Above is the Train model from 2 to 10 (or above), since K in this program can be increased by using the arrorw keys.\n",
    "\n",
    "* I belive the right number of clusters is found by starting with one cluster (k=1) and then keep dividing clusters until the points assigned to each cluster have a Gaussian distribution.\n",
    "\n",
    "* The reason why we are not interested in continously adding more means is because if you keep splitting to 'infinitity', you'll just end up with a cluster around every single item in your data set.\n",
    "\n",
    "* Stability analysis should help us find the right number of cluters due to cosine distance comparison of clusters. We know that the if cosine distance is equal to 1 then the similarity between clusters has reached its maximum stability. It should be mentioned that reaching 1 is not nessecarily possible, but as close to 1 as possible will surfice. "
   ]
  }
 ],
 "metadata": {
  "anaconda-cloud": {},
  "kernelspec": {
   "display_name": "Python [Root]",
   "language": "python",
   "name": "Python [Root]"
  },
  "language_info": {
   "codemirror_mode": {
    "name": "ipython",
    "version": 2
   },
   "file_extension": ".py",
   "mimetype": "text/x-python",
   "name": "python",
   "nbconvert_exporter": "python",
   "pygments_lexer": "ipython2",
   "version": "2.7.12"
  }
 },
 "nbformat": 4,
 "nbformat_minor": 0
}
